{
 "cells": [
  {
   "cell_type": "markdown",
   "id": "5d2cd332-a0d4-421f-b256-134f85a7311c",
   "metadata": {},
   "source": [
    "## 其实是模仿pytorch造了一个小库，但没用pytorch，只用了numpy，hhh（以防误会emm）\n"
   ]
  },
  {
   "cell_type": "code",
   "execution_count": 1,
   "id": "76dd8caf-dbdb-4502-a933-b096c16dbdcd",
   "metadata": {},
   "outputs": [
    {
     "name": "stdout",
     "output_type": "stream",
     "text": [
      "lr = 2e-4\n",
      "batch_size = 256\n",
      "epoch = 50\n"
     ]
    }
   ],
   "source": [
    "# 实验参数设置\n",
    "!cat cfg.py | grep 'lr'\n",
    "!cat cfg.py | grep 'batch_size'\n",
    "!cat cfg.py | grep 'epoch'"
   ]
  },
  {
   "cell_type": "code",
   "execution_count": 2,
   "id": "1ea0dc62-a0c5-4812-877b-b2e20c9a5311",
   "metadata": {},
   "outputs": [],
   "source": [
    "# 训练MLP的命令\n",
    "# 训练两层的MLP\n",
    "# !python train.py --log-dir ./log/ --save-dir ./model/2_layers/\n",
    "\n",
    "# 训练三层的MLP\n",
    "# !python train.py --log-dir ./3_layers_log/ --save-dir ./model/3_layers/ --nl 3 --dim-list 784 512 512"
   ]
  },
  {
   "cell_type": "code",
   "execution_count": 3,
   "id": "f45f340f-fe00-4cdd-bd57-bcf79136bd5c",
   "metadata": {},
   "outputs": [
    {
     "name": "stdout",
     "output_type": "stream",
     "text": [
      "2 layers:\n",
      "2022-10-17 21:16:52,107 - train.py[line:123] - INFO: Train Epoch 50 --- train loss : 0.053756208768434295 --- train accuracy:0.9867833333333333\n",
      "3 layers:\n",
      "2022-10-17 23:47:59,523 - train.py[line:125] - INFO: Train Epoch 50 --- train loss : 0.015267798793148345 --- train accuracy:0.9981666666666666\n"
     ]
    }
   ],
   "source": [
    "# 训练集上的最终准确率\n",
    "!echo '2 layers:' && (cat ./log/train.log | grep 'Train Epoch 50')\n",
    "!echo '3 layers:' && (cat ./3_layers_log/train.log | grep 'Train Epoch 50')"
   ]
  },
  {
   "cell_type": "markdown",
   "id": "fb3d0008-ede1-409e-8036-ffe9e512bcc2",
   "metadata": {
    "tags": []
   },
   "source": [
    "--------------------\n",
    "# 显示训练曲线图：\n",
    "![2 layers](./log/curve.png)\n",
    "\n",
    "--------------------\n",
    "\n",
    "![3_layers](./3_layers_log/curve.png)"
   ]
  },
  {
   "cell_type": "code",
   "execution_count": 4,
   "id": "5646ed1a-3b85-45b6-be5f-142967d804c9",
   "metadata": {},
   "outputs": [
    {
     "name": "stdout",
     "output_type": "stream",
     "text": [
      "one hot code :  [0. 0. 0. 0. 0. 0. 0. 0. 1. 0.]\n"
     ]
    },
    {
     "data": {
      "text/plain": [
       "Text(24, 24, '8')"
      ]
     },
     "execution_count": 4,
     "metadata": {},
     "output_type": "execute_result"
    },
    {
     "data": {
      "image/png": "[encoded data removed]",
      "text/plain": [
       "<Figure size 432x288 with 1 Axes>"
      ]
     },
     "metadata": {
      "needs_background": "light"
     },
     "output_type": "display_data"
    }
   ],
   "source": [
    "from dataset import MNIST_Dataset\n",
    "import matplotlib.pyplot as plt\n",
    "%matplotlib inline\n",
    "dataset1 = MNIST_Dataset()\n",
    "plt.figure()\n",
    "counter2 = 0\n",
    "print('one hot code : ',dataset1.test_label[61])\n",
    "for each in dataset1.test_label[61]: # 把one-hot转成category\n",
    "    if each == 0:\n",
    "        counter2+=1\n",
    "    else:\n",
    "        break\n",
    "plt.imshow(dataset1.test_data[61].reshape(28,28), cmap=\"gray\")\n",
    "plt.text(24, 24, str(counter2), fontsize=20, color=[1, 1, 1])"
   ]
  },
  {
   "cell_type": "code",
   "execution_count": 5,
   "id": "9c3fbfd0-a8b1-4f83-9474-5620696de38a",
   "metadata": {},
   "outputs": [
    {
     "name": "stdout",
     "output_type": "stream",
     "text": [
      "[<layers.Linear object at 0x7fcf384207c0>, <layers.Linear object at 0x7fcf384145e0>, <layers.CrossEntropyLoss object at 0x7fcf38420a30>]\n",
      "<class 'tensor.Tensor'>\n",
      "(784, 512)---(512, 10)\n"
     ]
    }
   ],
   "source": [
    "# load two layers(i.e.:only one hidden layer) MLP\n",
    "import pickle\n",
    "from model import MLP\n",
    "with open('./model/2_layers/mlp_epoch50.qbw','rb') as f:\n",
    "    state_dict = pickle.load(f)\n",
    "mlp = MLP(n_layers=2,n_class=10,dim_list=[784,512])\n",
    "mlp.load_state_dict(state_dict)\n",
    "print(mlp.layers) # two linear layers, one CrossEntropyLoss layer(softmax with Negtive Logistic Likelihood Loss\n",
    "print(type(mlp.layers[0].weight)) # self-implement Tensor class\n",
    "print('---'.join(map(str,[mlp.layers[0].weight.shape,mlp.layers[1].weight.shape])))"
   ]
  },
  {
   "cell_type": "code",
   "execution_count": 6,
   "id": "c74f650a-fc08-41c5-8d17-499001050fcd",
   "metadata": {},
   "outputs": [],
   "source": [
    "# try to predict one example\n",
    "example = dataset1.test_data[729].reshape(1,-1)\n",
    "cls = dataset1.test_label[729].reshape(1,-1)\n",
    "from tensor import Tensor # self-implement Tensor class\n",
    "example = Tensor(value=example)\n",
    "mlp.eval() # don't compute the gradient & no need to store temp variable\n",
    "pred,test_loss = mlp(example,cls)"
   ]
  },
  {
   "cell_type": "code",
   "execution_count": 7,
   "id": "5c52c288-257e-40d3-9290-e7f14f846ff8",
   "metadata": {},
   "outputs": [
    {
     "name": "stdout",
     "output_type": "stream",
     "text": [
      "True\n"
     ]
    }
   ],
   "source": [
    "from utils import compute_acc\n",
    "if compute_acc(pred.value,cls):\n",
    "    print(True)\n",
    "else:\n",
    "    print(False)"
   ]
  },
  {
   "cell_type": "code",
   "execution_count": 8,
   "id": "dc1013aa-25a4-4c91-8c5e-2d9e9b861b11",
   "metadata": {},
   "outputs": [
    {
     "data": {
      "text/plain": [
       "Text(1, 2, 'gt:6')"
      ]
     },
     "execution_count": 8,
     "metadata": {},
     "output_type": "execute_result"
    },
    {
     "data": {
      "image/png": "[encoded data removed]",
      "text/plain": [
       "<Figure size 432x288 with 1 Axes>"
      ]
     },
     "metadata": {
      "needs_background": "light"
     },
     "output_type": "display_data"
    }
   ],
   "source": [
    "pred_cls = pred.value.argmax(axis=1)\n",
    "gt_cls = cls.argmax(axis=1) # 只有一位为1，其他位都是0\n",
    "plt.figure()\n",
    "plt.imshow(example.value.reshape(28,28), cmap=\"gray\")\n",
    "plt.text(18, 26, f'pred:{int(pred_cls)}', fontsize=20, color=[1, 1, 1])\n",
    "plt.text(1, 2, f'gt:{int(gt_cls)}', fontsize=20, color=[1, 1, 1])\n",
    "# import cv2\n",
    "# cv2.imwrite('./6.png',example.value.reshape(28,28)*255)"
   ]
  },
  {
   "cell_type": "code",
   "execution_count": 9,
   "id": "14065855-0947-4371-bf7c-969897ece157",
   "metadata": {},
   "outputs": [
    {
     "name": "stdout",
     "output_type": "stream",
     "text": [
      "2022-10-17 23:25:28,521 - test.py[line:68] - INFO: Test Model Path: ./model/2_layers/mlp_epoch50.qbw --- test loss : 0.07955832918741779 --- test accuracy:0.9764\n",
      "2022-10-18 00:01:28,568 - test.py[line:70] - INFO: Test Model Path: ./model/3_layers/mlp_epoch50.qbw --- test loss : 0.06740434573131972 --- test accuracy:0.9791\n"
     ]
    }
   ],
   "source": [
    "# 查看test set上的test accuracy\n",
    "'''\n",
    "两层的MLP做test：\n",
    "!python test.py --model-path ./model/2_layers/mlp_epoch50.qbw \n",
    "三层的MLP做test：\n",
    "!python test.py --model-path ./model/3_layers/mlp_epoch50.qbw --nl 3 --dim-list 784 512 512\n",
    "'''\n",
    "!cat ./test_log/test.log"
   ]
  }
 ],
 "metadata": {
  "kernelspec": {
   "display_name": "Python 3 (ipykernel)",
   "language": "python",
   "name": "python3"
  },
  "language_info": {
   "codemirror_mode": {
    "name": "ipython",
    "version": 3
   },
   "file_extension": ".py",
   "mimetype": "text/x-python",
   "name": "python",
   "nbconvert_exporter": "python",
   "pygments_lexer": "ipython3",
   "version": "3.9.12"
  }
 },
 "nbformat": 4,
 "nbformat_minor": 5
}
